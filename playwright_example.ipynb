{
 "cells": [
  {
   "cell_type": "markdown",
   "metadata": {},
   "source": [
    "# Example of Using Playwright in a Notebook\n",
    "\n",
    "This is a minimal example of using [Playwright](https://playwright.dev/) in the context of a notebook.\n",
    "\n",
    "[Open this notebook in Colab](https://colab.research.google.com/github/ryanmark1867/webdriver_and_playwright_in_notebooks/blob/main/playwright_example.ipynb)"
   ]
  },
  {
   "cell_type": "markdown",
   "metadata": {},
   "source": [
    "### Set up required libraries and imports"
   ]
  },
  {
   "cell_type": "code",
   "execution_count": null,
   "metadata": {
    "vscode": {
     "languageId": "plaintext"
    }
   },
   "outputs": [],
   "source": [
    "!pip install pytest-playwright\n",
    "!playwright install"
   ]
  },
  {
   "cell_type": "code",
   "execution_count": null,
   "metadata": {},
   "outputs": [],
   "source": [
    "import os\n",
    "import asyncio\n",
    "import playwright\n",
    "from playwright import async_api, sync_api\n",
    "from playwright.sync_api import sync_playwright\n",
    "from playwright.async_api import async_playwright\n",
    "\n",
    "import bs4\n",
    "from IPython import display\n",
    "from PIL import Image"
   ]
  },
  {
   "cell_type": "markdown",
   "metadata": {},
   "source": [
    "### Define parameters"
   ]
  },
  {
   "cell_type": "code",
   "execution_count": null,
   "metadata": {},
   "outputs": [],
   "source": [
    "window_width = 1380\n",
    "window_height = 720\n",
    "timeout = 10\n",
    "screenshot_filename = 'screenshot.png'\n",
    "screenshot_path = os.path.join(os.getcwd(), screenshot_filename)\n",
    "test_url = 'https://www.google.com'"
   ]
  },
  {
   "cell_type": "markdown",
   "metadata": {},
   "source": [
    "### Define Playwright client"
   ]
  }
 ],
 "metadata": {
  "language_info": {
   "name": "python"
  }
 },
 "nbformat": 4,
 "nbformat_minor": 2
}
